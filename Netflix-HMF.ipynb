{
 "cells": [
  {
   "cell_type": "code",
   "execution_count": 1,
   "id": "ad9cbdee",
   "metadata": {},
   "outputs": [],
   "source": [
    "import sys\n",
    "import pandas as pd\n",
    "import numpy as np\n",
    "import tensorflow as tf\n",
    "from recommenders.datasets.python_splitters import python_stratified_split\n",
    "from recommenders.utils.python_utils import get_top_k_scored_items\n",
    "from recommenders.evaluation.python_evaluation import (\n",
    "    map_at_k,\n",
    "    ndcg_at_k,\n",
    "    precision_at_k,\n",
    "    recall_at_k,\n",
    "    rmse,\n",
    "    mae,\n",
    "    logloss,\n",
    "    rsquared,\n",
    "    exp_var,\n",
    "    auc,\n",
    "    confusion_matrix\n",
    ")\n",
    "from recommenders.utils.timer import Timer\n",
    "from recommenders.utils.python_utils import binarize\n",
    "from sklearn.preprocessing import minmax_scale\n",
    "# from pandas import *"
   ]
  },
  {
   "cell_type": "code",
   "execution_count": 28,
   "id": "2e010f34",
   "metadata": {},
   "outputs": [],
   "source": [
    "def load_df(size=\"1\"):\n",
    "  if(size==5):\n",
    "    df = pd.read_csv(f\"./drive/MyDrive/netflix dataset/combined_data_1.txt\",header = None, names = ['userID', 'rating'], usecols = [0,1])\n",
    "    for i in range(2,5):\n",
    "      df_temp = pd.read_csv(f\"./drive/MyDrive/netflix dataset/combined_data_{i}.txt\",header = None, names = ['userID', 'rating'], usecols = [0,1])\n",
    "      df.append(df_temp)\n",
    "  else:\n",
    "    df = pd.read_csv(f\"./drive/MyDrive/netflix dataset/combined_data_{size}.txt\",header = None, names = ['userID', 'rating'], usecols = [0,1])\n",
    "  df.index = np.arange(0,len(df))\n",
    "  df_nan = pd.DataFrame(pd.isnull(df.rating))\n",
    "  df_nan = df_nan[df_nan['rating'] == True]\n",
    "  df_nan = df_nan.reset_index()\n",
    "  movie_np = []\n",
    "  movie_id = 1\n",
    "  for i,j in zip(df_nan['index'][1:],df_nan['index'][:-1]):\n",
    "      temp = np.full((1,i-j-1), movie_id)\n",
    "      movie_np = np.append(movie_np, temp)\n",
    "      movie_id += 1\n",
    "  last_record = np.full((1,len(df) - df_nan.iloc[-1, 0] - 1),movie_id)\n",
    "  movie_np = np.append(movie_np, last_record)\n",
    "  df = df[pd.notnull(df['rating'])]\n",
    "  df['itemID'] = movie_np.astype(int)\n",
    "  df['userID'] = df['userID'].astype(int)\n",
    "  df['rating'] = df['rating'].astype(float)\n",
    "  df = df[df[\"itemID\"]]<=15000\n",
    "  df = df[df[\"userID\"]]<=500000\n",
    "  return df"
   ]
  },
  {
   "cell_type": "code",
   "execution_count": 29,
   "id": "18df5c37",
   "metadata": {},
   "outputs": [],
   "source": [
    "df = load_df()"
   ]
  },
  {
   "cell_type": "code",
   "execution_count": 4,
   "id": "c667d24a",
   "metadata": {},
   "outputs": [
    {
     "data": {
      "text/plain": [
       "(4556371, 3)"
      ]
     },
     "execution_count": 4,
     "metadata": {},
     "output_type": "execute_result"
    }
   ],
   "source": [
    "df.shape"
   ]
  },
  {
   "cell_type": "code",
   "execution_count": 27,
   "id": "5d5869c2",
   "metadata": {},
   "outputs": [],
   "source": [
    "index2item = dict(enumerate(df['itemID'].unique()))\n",
    "index2user = dict(enumerate(df['userID'].unique()))\n",
    "item2index = {v: k for k, v in index2item.items()}\n",
    "user2index = {v: k for k, v in index2user.items()}\n",
    "df['itemID'] = df.itemID.apply(lambda i : item2index[i])\n",
    "df['userID'] = df.userID.apply(lambda u : user2index[u])"
   ]
  },
  {
   "cell_type": "code",
   "execution_count": 30,
   "id": "f6f87159",
   "metadata": {},
   "outputs": [],
   "source": [
    "train, test = python_stratified_split(df, ratio=0.75, col_user='userID', col_item='itemID', seed=42)\n",
    "test = test[test[\"userID\"].isin(train[\"userID\"].unique())]\n",
    "test = test[test[\"itemID\"].isin(train[\"itemID\"].unique())]"
   ]
  },
  {
   "cell_type": "code",
   "execution_count": 7,
   "id": "575a25d4",
   "metadata": {},
   "outputs": [],
   "source": [
    "del df"
   ]
  },
  {
   "cell_type": "code",
   "execution_count": 8,
   "id": "4f296797",
   "metadata": {},
   "outputs": [],
   "source": [
    "# print(df.head(10))\n",
    "X = train.pivot_table(index=[\"userID\"], columns=[\"itemID\"], values=\"rating\").fillna(0)\n",
    "# n_user, n_item = X.shape\n",
    "# n_feature = 3\n",
    "# beta = np.random.randn(n_user)\n",
    "# gamma = np.random.randn(n_item)\n",
    "# lambdaa = 0.5\n",
    "# U = np.random.randn(n_user, n_feature)\n",
    "# V = np.random.randn(n_item, n_feature)\n",
    "# print(X.head(10))\n",
    "X = X.to_numpy()"
   ]
  },
  {
   "cell_type": "code",
   "execution_count": 9,
   "id": "955deddc",
   "metadata": {},
   "outputs": [
    {
     "name": "stdout",
     "output_type": "stream",
     "text": [
      "Model: \"matrix_factorizer\"\n",
      "__________________________________________________________________________________________________\n",
      " Layer (type)                   Output Shape         Param #     Connected to                     \n",
      "==================================================================================================\n",
      " user (InputLayer)              [(None, 1)]          0           []                               \n",
      "                                                                                                  \n",
      " item (InputLayer)              [(None, 1)]          0           []                               \n",
      "                                                                                                  \n",
      " user_embedding (Embedding)     (None, 1, 3)         267870      ['user[0][0]']                   \n",
      "                                                                                                  \n",
      " item_embedding (Embedding)     (None, 1, 3)         13497       ['item[0][0]']                   \n",
      "                                                                                                  \n",
      " logits (Dot)                   (None, 1, 1)         0           ['user_embedding[0][0]',         \n",
      "                                                                  'item_embedding[0][0]']         \n",
      "                                                                                                  \n",
      " user_bias (Embedding)          (None, 1, 1)         89290       ['user[0][0]']                   \n",
      "                                                                                                  \n",
      " item_bias (Embedding)          (None, 1, 1)         4499        ['item[0][0]']                   \n",
      "                                                                                                  \n",
      " add (Add)                      (None, 1, 1)         0           ['logits[0][0]',                 \n",
      "                                                                  'user_bias[0][0]',              \n",
      "                                                                  'item_bias[0][0]']              \n",
      "                                                                                                  \n",
      "==================================================================================================\n",
      "Total params: 375,156\n",
      "Trainable params: 375,156\n",
      "Non-trainable params: 0\n",
      "__________________________________________________________________________________________________\n",
      "None\n"
     ]
    }
   ],
   "source": [
    "# Create input function directly from numpy array.\n",
    "R_u, R_i = X.nonzero()\n",
    "R_s = X[X.nonzero()]\n",
    "train_data = tf.data.Dataset.from_tensor_slices(\n",
    "  ({\"user\": R_u, \"item\": R_i}, R_s))\n",
    "train_data = train_data.shuffle(buffer_size=1000).repeat(count=None).batch(1)\n",
    "\n",
    "# Build the factorization network.\n",
    "class KerasMF:\n",
    "  def __init__(self, R, k=3, l2=1e-4, with_bias=False):\n",
    "    self.l2_reg = tf.keras.regularizers.l2(l2)\n",
    "    self.m, self.n = R.shape\n",
    "    self.k = k\n",
    "    self.with_bias = with_bias\n",
    "    self.model = self.create_model()\n",
    "\n",
    "  def create_model(self):\n",
    "    user_inputs = tf.keras.layers.Input(shape=(1,), name=\"user\")\n",
    "    item_inputs = tf.keras.layers.Input(shape=(1,), name=\"item\")\n",
    "    user_embeddings = tf.keras.layers.Embedding(\n",
    "      input_dim=self.m, output_dim=self.k, name=\"user_embedding\",\n",
    "      embeddings_regularizer=self.l2_reg)(user_inputs)\n",
    "    item_embeddings = tf.keras.layers.Embedding(\n",
    "      input_dim=self.n, output_dim=self.k, name=\"item_embedding\",\n",
    "      embeddings_regularizer=self.l2_reg)(item_inputs)\n",
    "    dots = tf.keras.layers.Dot(axes=-1, name=\"logits\")([user_embeddings, item_embeddings])\n",
    "    if self.with_bias:\n",
    "      # The formal use of bias need a tf.keras.layers.Dense layer.\n",
    "      # But since we are customizing our network architecture,\n",
    "      # we will use the tf.keras.layers.Embedding layer to do the trick.\n",
    "      user_biases = tf.keras.layers.Embedding(\n",
    "        input_dim=self.m, output_dim=1, name=\"user_bias\")(user_inputs)\n",
    "      item_biases = tf.keras.layers.Embedding(\n",
    "        input_dim=self.n, output_dim=1, name=\"item_bias\")(item_inputs)\n",
    "      dots = tf.keras.layers.Add()([dots, user_biases, item_biases])\n",
    "    model = tf.keras.Model(\n",
    "      name=\"matrix_factorizer\",\n",
    "      inputs=[user_inputs, item_inputs], outputs=dots)\n",
    "    model.compile(\n",
    "      optimizer=tf.keras.optimizers.SGD(),\n",
    "      loss=tf.keras.losses.MeanSquaredError(),\n",
    "      metrics=[\n",
    "        tf.keras.metrics.MeanSquaredError()\n",
    "      ]\n",
    "    )\n",
    "    print(model.summary())\n",
    "    return model\n",
    "\n",
    "  def predict_matrix(self):\n",
    "    keras_user_embeddings = keras_mf.model.get_layer(name=\"user_embedding\").weights[0].numpy()\n",
    "    keras_item_embeddings = keras_mf.model.get_layer(name=\"item_embedding\").weights[0].numpy()\n",
    "    keras_user_biases = keras_mf.model.get_layer(name=\"user_bias\").weights[0].numpy()\n",
    "    keras_item_biases = keras_mf.model.get_layer(name=\"item_bias\").weights[0].numpy()\n",
    "    dots = keras_user_embeddings.dot(keras_item_embeddings.T)\n",
    "    dots += keras_user_biases\n",
    "    dots += keras_item_biases[:,-1]\n",
    "    dots = np.round(dots, 2)\n",
    "    return dots\n",
    "  \n",
    "  def score(self,test):\n",
    "    # get user / item indices from test set\n",
    "    dots = self.predict_matrix()\n",
    "    user_ids = list(test['userID'].unique())\n",
    "    \n",
    "    test_scores = dots[user_ids]\n",
    "\n",
    "    return test_scores\n",
    "\n",
    "  def recommend_k_items(self, test, top_k=10, sort_top_k=True):\n",
    "    test_scores = self.score(test)\n",
    "\n",
    "    top_items, top_scores = get_top_k_scored_items(\n",
    "        scores=test_scores, top_k=top_k, sort_top_k=sort_top_k\n",
    "    )\n",
    "\n",
    "    df = pd.DataFrame(\n",
    "        {\n",
    "            'userID': np.repeat(\n",
    "                test['userID'].drop_duplicates().values, top_items.shape[1]\n",
    "            ),\n",
    "            'itemID': [item for item in top_items.flatten()],\n",
    "            'prediction': top_scores.flatten(),\n",
    "        }\n",
    "    )\n",
    "\n",
    "    # drop invalid items\n",
    "    return df.replace(-np.inf, np.nan).dropna()\n",
    "\n",
    "keras_mf = KerasMF(R=X, with_bias=True)"
   ]
  },
  {
   "cell_type": "code",
   "execution_count": 10,
   "id": "c3e1ce3c",
   "metadata": {},
   "outputs": [],
   "source": [
    "del train"
   ]
  },
  {
   "cell_type": "code",
   "execution_count": 11,
   "id": "9530fa9e",
   "metadata": {},
   "outputs": [
    {
     "name": "stdout",
     "output_type": "stream",
     "text": [
      "Epoch 1/10\n",
      "100/100 [==============================] - 0s 2ms/step - loss: 8.0745 - mean_squared_error: 8.0511\n",
      "Epoch 2/10\n",
      "100/100 [==============================] - 0s 2ms/step - loss: 4.7537 - mean_squared_error: 4.7303\n",
      "Epoch 3/10\n",
      "100/100 [==============================] - 0s 1ms/step - loss: 4.6617 - mean_squared_error: 4.6383\n",
      "Epoch 4/10\n",
      "100/100 [==============================] - 0s 1ms/step - loss: 3.3393 - mean_squared_error: 3.3160\n",
      "Epoch 5/10\n",
      "100/100 [==============================] - 0s 1ms/step - loss: 3.9729 - mean_squared_error: 3.9495\n",
      "Epoch 6/10\n",
      "100/100 [==============================] - 0s 1ms/step - loss: 4.4776 - mean_squared_error: 4.4542\n",
      "Epoch 7/10\n",
      "100/100 [==============================] - 0s 1ms/step - loss: 3.4935 - mean_squared_error: 3.4701\n",
      "Epoch 8/10\n",
      "100/100 [==============================] - 0s 1ms/step - loss: 4.7838 - mean_squared_error: 4.7605\n",
      "Epoch 9/10\n",
      "100/100 [==============================] - 0s 1ms/step - loss: 3.4509 - mean_squared_error: 3.4276\n",
      "Epoch 10/10\n",
      "100/100 [==============================] - 0s 1ms/step - loss: 2.7286 - mean_squared_error: 2.7053\n"
     ]
    },
    {
     "data": {
      "text/plain": [
       "<keras.callbacks.History at 0x1affe7661c0>"
      ]
     },
     "execution_count": 11,
     "metadata": {},
     "output_type": "execute_result"
    }
   ],
   "source": [
    "keras_mf.model.fit(train_data, epochs=10, steps_per_epoch=100, verbose=1)"
   ]
  },
  {
   "cell_type": "code",
   "execution_count": 12,
   "id": "bbe6d4d4",
   "metadata": {},
   "outputs": [
    {
     "name": "stdout",
     "output_type": "stream",
     "text": [
      "Took 7.013309500000005 seconds for prediction.\n"
     ]
    }
   ],
   "source": [
    "with Timer() as test_time:\n",
    "    top_k = keras_mf.recommend_k_items(test, top_k=10)\n",
    "\n",
    "print(\"Took {} seconds for prediction.\".format(test_time.interval))"
   ]
  },
  {
   "cell_type": "code",
   "execution_count": 13,
   "id": "6f3164c4",
   "metadata": {},
   "outputs": [
    {
     "data": {
      "text/html": [
       "<div>\n",
       "<style scoped>\n",
       "    .dataframe tbody tr th:only-of-type {\n",
       "        vertical-align: middle;\n",
       "    }\n",
       "\n",
       "    .dataframe tbody tr th {\n",
       "        vertical-align: top;\n",
       "    }\n",
       "\n",
       "    .dataframe thead th {\n",
       "        text-align: right;\n",
       "    }\n",
       "</style>\n",
       "<table border=\"1\" class=\"dataframe\">\n",
       "  <thead>\n",
       "    <tr style=\"text-align: right;\">\n",
       "      <th></th>\n",
       "      <th>userID</th>\n",
       "      <th>itemID</th>\n",
       "      <th>prediction</th>\n",
       "    </tr>\n",
       "  </thead>\n",
       "  <tbody>\n",
       "    <tr>\n",
       "      <th>0</th>\n",
       "      <td>0</td>\n",
       "      <td>298</td>\n",
       "      <td>3.74</td>\n",
       "    </tr>\n",
       "    <tr>\n",
       "      <th>1</th>\n",
       "      <td>0</td>\n",
       "      <td>3961</td>\n",
       "      <td>3.74</td>\n",
       "    </tr>\n",
       "    <tr>\n",
       "      <th>2</th>\n",
       "      <td>0</td>\n",
       "      <td>1083</td>\n",
       "      <td>3.73</td>\n",
       "    </tr>\n",
       "    <tr>\n",
       "      <th>3</th>\n",
       "      <td>0</td>\n",
       "      <td>2451</td>\n",
       "      <td>3.72</td>\n",
       "    </tr>\n",
       "    <tr>\n",
       "      <th>4</th>\n",
       "      <td>0</td>\n",
       "      <td>4355</td>\n",
       "      <td>3.71</td>\n",
       "    </tr>\n",
       "  </tbody>\n",
       "</table>\n",
       "</div>"
      ],
      "text/plain": [
       "   userID  itemID  prediction\n",
       "0       0     298        3.74\n",
       "1       0    3961        3.74\n",
       "2       0    1083        3.73\n",
       "3       0    2451        3.72\n",
       "4       0    4355        3.71"
      ]
     },
     "execution_count": 13,
     "metadata": {},
     "output_type": "execute_result"
    }
   ],
   "source": [
    "top_k.head()"
   ]
  },
  {
   "cell_type": "code",
   "execution_count": 14,
   "id": "18d45e5b",
   "metadata": {},
   "outputs": [
    {
     "name": "stdout",
     "output_type": "stream",
     "text": [
      "Model:\t\n",
      "Top K:\t10\n",
      "MAP:\t0.015959\n",
      "NDCG:\t0.064235\n",
      "Precision@K:\t0.055070\n",
      "Recall@K:\t0.049162\n",
      "RMSE:\t3.853898\n",
      "MAE:\t3.724409\n",
      "RSquared:\t-14.065317\n",
      "Exp_Var:\t0.003896\n",
      "Logloss:\t3.443325\n"
     ]
    }
   ],
   "source": [
    "TOP_K=10\n",
    "eval_map = map_at_k(test, top_k, col_user='userID', col_item='itemID', col_rating='rating', k=TOP_K)\n",
    "eval_ndcg = ndcg_at_k(test, top_k, col_user='userID', col_item='itemID', col_rating='rating', k=TOP_K)\n",
    "eval_precision = precision_at_k(test, top_k, col_user='userID', col_item='itemID', col_rating='rating', k=TOP_K)\n",
    "eval_recall = recall_at_k(test, top_k, col_user='userID', col_item='itemID', col_rating='rating', k=TOP_K)\n",
    "eval_rmse = rmse(test, top_k, col_user='userID', col_item='itemID', col_rating='rating')\n",
    "eval_mae = mae(test, top_k, col_user='userID', col_item='itemID', col_rating='rating')\n",
    "eval_rsquared = rsquared(test, top_k, col_user='userID', col_item='itemID', col_rating='rating')\n",
    "eval_exp_var = exp_var(test, top_k, col_user='userID', col_item='itemID', col_rating='rating')\n",
    "# eval_auc = auc(test, top_k, col_user='userID', col_item='itemID', col_rating='rating')\n",
    "positivity_threshold = 2\n",
    "test_bin = test.copy()\n",
    "test_bin['rating'] = binarize(test_bin['rating'], positivity_threshold)\n",
    "\n",
    "top_k_prob = top_k.copy()\n",
    "top_k_prob['prediction'] = minmax_scale(\n",
    "    top_k_prob['prediction'].astype(float)\n",
    ")\n",
    "\n",
    "eval_logloss = logloss(test_bin, top_k_prob, col_user='userID', col_item='itemID', col_rating='rating')\n",
    "print(\"Model:\\t\",\n",
    "      \"Top K:\\t%d\" % TOP_K,\n",
    "      \"MAP:\\t%f\" % eval_map,\n",
    "      \"NDCG:\\t%f\" % eval_ndcg,\n",
    "      \"Precision@K:\\t%f\" % eval_precision,\n",
    "      \"Recall@K:\\t%f\" % eval_recall,\n",
    "      \"RMSE:\\t%f\" %eval_rmse,\n",
    "      \"MAE:\\t%f\" %eval_mae,\n",
    "      \"RSquared:\\t%f\" %eval_rsquared,\n",
    "      \"Exp_Var:\\t%f\" %eval_exp_var,\n",
    "      \"Logloss:\\t%f\" % eval_logloss,\n",
    "      sep='\\n')"
   ]
  },
  {
   "cell_type": "code",
   "execution_count": 15,
   "id": "63d11506",
   "metadata": {},
   "outputs": [],
   "source": [
    "from tqdm import tqdm"
   ]
  },
  {
   "cell_type": "code",
   "execution_count": 3,
   "id": "2cca2268",
   "metadata": {},
   "outputs": [],
   "source": [
    "# %%time\n",
    "\n",
    "conf_mat = confusion_matrix(keras_mf,test,\"HMF\")"
   ]
  },
  {
   "cell_type": "code",
   "execution_count": 4,
   "id": "77eb0b2f",
   "metadata": {},
   "outputs": [
    {
     "data": {
      "image/png": "[encoded data removed]",
      "text/plain": [
       "<Figure size 400x400 with 2 Axes>"
      ]
     },
     "metadata": {},
     "output_type": "display_data"
    }
   ],
   "source": [
    "import seaborn as sns\n",
    "import matplotlib.pyplot as plt\n",
    "sns.set(rc={'figure.figsize':(4,4)})\n",
    "sns.heatmap(conf_mat,fmt='',annot=True)\n",
    "plt.xlabel(\"Predicted Value\")\n",
    "plt.ylabel(\"Target Value\")\n",
    "plt.show()"
   ]
  },
  {
   "cell_type": "code",
   "execution_count": null,
   "id": "9f427797",
   "metadata": {},
   "outputs": [],
   "source": []
  }
 ],
 "metadata": {
  "kernelspec": {
   "display_name": "Python 3 (ipykernel)",
   "language": "python",
   "name": "python3"
  },
  "language_info": {
   "codemirror_mode": {
    "name": "ipython",
    "version": 3
   },
   "file_extension": ".py",
   "mimetype": "text/x-python",
   "name": "python",
   "nbconvert_exporter": "python",
   "pygments_lexer": "ipython3",
   "version": "3.9.13"
  }
 },
 "nbformat": 4,
 "nbformat_minor": 5
}
