{
 "cells": [
  {
   "cell_type": "code",
   "execution_count": 1,
   "metadata": {
    "id": "kHIwsjwWTMsc"
   },
   "outputs": [],
   "source": [
    "import numpy as np \n",
    "import os \n",
    "import pandas as pd \n",
    "# from scipy import sparse\n",
    "from recommenders.datasets.python_splitters import python_stratified_split\n",
    "from recommenders.utils.python_utils import get_top_k_scored_items\n",
    "from recommenders.utils.timer import Timer\n",
    "from sklearn.preprocessing import minmax_scale\n",
    "from recommenders.utils.python_utils import binarize\n",
    "from recommenders.evaluation.python_evaluation import (map_at_k, ndcg_at_k)"
   ]
  },
  {
   "cell_type": "code",
   "execution_count": 2,
   "metadata": {
    "colab": {
     "base_uri": "https://localhost:8080/"
    },
    "id": "6M3ruGVcSkkl",
    "outputId": "ad09b7f0-36ad-44b1-87a0-33a6f44f9c23"
   },
   "outputs": [],
   "source": [
    "def load_df(size=\"1\"):\n",
    "  if(size==5):\n",
    "    df = pd.read_csv(f\"./drive/MyDrive/netflix dataset/combined_data_1.txt\",header = None, names = ['userID', 'rating','timestamp'], usecols = [0,1,2])\n",
    "    for i in range(2,5):\n",
    "      df_temp = pd.read_csv(f\"./drive/MyDrive/netflix dataset/combined_data_{i}.txt\",header = None, names = ['userID', 'rating','timestamp'], usecols = [0,1,2])\n",
    "      df.append(df_temp)\n",
    "  else:\n",
    "    df = pd.read_csv(f\"./drive/MyDrive/netflix dataset/combined_data_{size}.txt\",header = None, names = ['userID', 'rating','timestamp'], usecols = [0,1,2])\n",
    "  df.index = np.arange(0,len(df))\n",
    "  df_nan = pd.DataFrame(pd.isnull(df.rating))\n",
    "  df_nan = df_nan[df_nan['rating'] == True]\n",
    "  df_nan = df_nan.reset_index()\n",
    "  movie_np = []\n",
    "  movie_id = 1\n",
    "  for i,j in zip(df_nan['index'][1:],df_nan['index'][:-1]):\n",
    "      temp = np.full((1,i-j-1), movie_id)\n",
    "      movie_np = np.append(movie_np, temp)\n",
    "      movie_id += 1\n",
    "  last_record = np.full((1,len(df) - df_nan.iloc[-1, 0] - 1),movie_id)\n",
    "  movie_np = np.append(movie_np, last_record)\n",
    "  df = df[pd.notnull(df['rating'])]\n",
    "  df['itemID'] = movie_np.astype(int)\n",
    "  df['userID'] = df['userID'].astype(int)\n",
    "  df['rating'] = df['rating'].astype(int)\n",
    "  df = df[df[\"itemID\"]<=1500]\n",
    "  df = df[df[\"userID\"]<=50000]\n",
    "  return df"
   ]
  },
  {
   "cell_type": "code",
   "execution_count": 3,
   "metadata": {
    "colab": {
     "base_uri": "https://localhost:8080/"
    },
    "id": "SYoJ4RttTF0L",
    "outputId": "78dcca1a-cb26-49c9-c967-6457777688c1"
   },
   "outputs": [],
   "source": [
    "df = load_df()\n",
    "index2item = dict(enumerate(df['itemID'].unique()))\n",
    "index2user = dict(enumerate(df['userID'].unique()))\n",
    "item2index = {v: k for k, v in index2item.items()}\n",
    "user2index = {v: k for k, v in index2user.items()}\n",
    "df['itemID'] = df.itemID.apply(lambda i : item2index[i])\n",
    "df['userID'] = df.userID.apply(lambda u : user2index[u])\n",
    "del index2item\n",
    "del index2user\n",
    "del user2index\n",
    "del item2index"
   ]
  },
  {
   "cell_type": "code",
   "execution_count": 4,
   "metadata": {},
   "outputs": [],
   "source": [
    "train, test = python_stratified_split(df, ratio=0.75, col_user='userID', col_item='itemID', seed=42)\n",
    "test = test[test[\"userID\"].isin(train[\"userID\"].unique())]\n",
    "test = test[test[\"itemID\"].isin(train[\"itemID\"].unique())]"
   ]
  },
  {
   "cell_type": "code",
   "execution_count": 5,
   "metadata": {},
   "outputs": [],
   "source": [
    "X = train.pivot_table(index=[\"itemID\"], columns=[\"userID\"], values=\"rating\").fillna(0)\n",
    "X = X.to_numpy()\n",
    "X = X.astype(int)"
   ]
  },
  {
   "cell_type": "markdown",
   "metadata": {
    "id": "sa807g_dUs5F"
   },
   "source": [
    "Combine all txt file to a output.csv as well adding movie_id"
   ]
  },
  {
   "cell_type": "code",
   "execution_count": 8,
   "metadata": {
    "id": "8_1VHyP7StxC"
   },
   "outputs": [],
   "source": [
    "# import os\n",
    "# import re\n",
    "# dirPath = \"./drive/MyDrive/netflix dataset/\"\n",
    "# docList =[]\n",
    "# for filename in os.listdir(dirPath):\n",
    "#     if (re.search(\"^combined_data.*.txt$\", filename) is not None):\n",
    "#         docList.append(dirPath+filename)\n",
    "# dic = []\n",
    "# with open(\"./drive/MyDrive/netflix dataset/output.csv\", 'w+') as output:\n",
    "#     output.write(\"movie_id,user_id,rating,date\\n\")\n",
    "#     for fileName in docList:\n",
    "#        with open(fileName, 'r') as file:\n",
    "#         for _, line in enumerate(file):\n",
    "#             if ':' in line:\n",
    "#                 movie_id= line.replace(':', '').replace('\\n', '')\n",
    "# #             else:\n",
    "#                 output.write(movie_id+\",\"+line)\n",
    "#         file.close()\n",
    "#         del file\n",
    "#     output.close()"
   ]
  },
  {
   "cell_type": "code",
   "execution_count": 9,
   "metadata": {
    "id": "CmtET6CNTxUH"
   },
   "outputs": [],
   "source": [
    "# full_dataset = pd.read_csv('./drive/MyDrive/netflix dataset/output.csv',usecols = [0,1,2])"
   ]
  },
  {
   "cell_type": "code",
   "execution_count": 4,
   "metadata": {
    "id": "smclu3PtXkMv"
   },
   "outputs": [],
   "source": [
    "# def set_cont_id(column):\n",
    "#     keys = column.unique()\n",
    "#     key_to_id = {key:idx for idx,key in enumerate(keys)}\n",
    "#     return key_to_id, np.array([key_to_id[x] for x in column]), len(keys)\n",
    "# def transform_df(df):\n",
    "#     movie_ids, df['movie_id'], num_movies = set_cont_id(df['movie_id'])\n",
    "#     user_ids, df['user_id'], num_users = set_cont_id(df['user_id'])\n",
    "#     return num_users, num_movies, user_ids, movie_ids"
   ]
  },
  {
   "cell_type": "code",
   "execution_count": 11,
   "metadata": {
    "id": "K32wVPBVaj4Z"
   },
   "outputs": [],
   "source": [
    "# small_dataset = full_dataset[full_dataset[\"movie_id\"]<=100]"
   ]
  },
  {
   "cell_type": "code",
   "execution_count": 12,
   "metadata": {
    "id": "aSjz55Bea1BB"
   },
   "outputs": [],
   "source": [
    "# small_dataset.to_csv(\"./drive/MyDrive/netflix dataset/small_dataset.csv\")"
   ]
  },
  {
   "cell_type": "code",
   "execution_count": 9,
   "metadata": {
    "id": "ikDgUJ9b3WNG"
   },
   "outputs": [],
   "source": [
    "# del(full_dataset)"
   ]
  },
  {
   "cell_type": "code",
   "execution_count": 5,
   "metadata": {
    "id": "OzlwRkxd4TAc"
   },
   "outputs": [],
   "source": [
    "# small_dataset = pd.read_csv(\"./drive/MyDrive/netflix dataset/small_dataset.csv\",usecols=[1,2,3])"
   ]
  },
  {
   "cell_type": "code",
   "execution_count": 6,
   "metadata": {
    "colab": {
     "base_uri": "https://localhost:8080/"
    },
    "id": "u_bY4EV_3afx",
    "outputId": "1719d66d-0c16-438e-f907-f2dc41c47b0b"
   },
   "outputs": [
    {
     "name": "stdout",
     "output_type": "stream",
     "text": [
      "Num of Users :  8169  Num of Movies :  1410\n"
     ]
    }
   ],
   "source": [
    "num_users = len(train[\"userID\"].unique())\n",
    "num_movies = len(train[\"itemID\"].unique())\n",
    "print(\"Num of Users : \",num_users,\" Num of Movies : \",num_movies)"
   ]
  },
  {
   "cell_type": "code",
   "execution_count": 7,
   "metadata": {
    "id": "RCONjsyw4-Of"
   },
   "outputs": [],
   "source": [
    "# Algorith 1 Naive Bayes\n",
    "\n",
    "# Defining Function use\n",
    "\n",
    "#   #1 For creating sparse matrix\n",
    "def create_sparse_matrix(df, rows, cols, column_name=\"rating\"):\n",
    "    return sparse.csc_matrix((df[column_name].values,(df['movie_id'].values, df['user_id'].values)),shape=(rows, cols))\n",
    "\n",
    "#   #2 Naive bayes algo [“A Collaborative Filtering Approach Based on Naïve Bayes Classifier,”]\n",
    "\n",
    "def naiveBayes(mat,a,rating_class):\n",
    "#     initializing counters\n",
    "    rating_class_length = rating_class.shape[0]\n",
    "    num_movies = mat.shape[0]\n",
    "    num_users = mat.shape[1]\n",
    "    user_count = np.full((num_users),rating_class_length*a)\n",
    "    item_count = np.full((num_movies),rating_class_length*a)\n",
    "    prior_user_probab = np.full((num_users,rating_class_length),a)\n",
    "    prior_item_probab = np.full((num_movies,rating_class_length),a)\n",
    "    cond_item_probab = np.full((num_movies,rating_class_length,num_movies,rating_class_length),a)\n",
    "    cond_user_probab = np.full((num_users,rating_class_length,num_users,rating_class_length),a)\n",
    "    item_itemJ_count = np.full((num_movies,num_movies,rating_class_length),rating_class_length*a)\n",
    "    user_userJ_count = np.full((num_users,num_users,rating_class_length),rating_class_length*a)\n",
    "    for user in range(num_users):\n",
    "        for item in range(num_movies):\n",
    "            y=mat.item((item,user))\n",
    "            if(y==0):\n",
    "                continue\n",
    "            prior_user_probab[user][y-1] = ((user_count[user]*prior_user_probab[user][y-1])+1)/(user_count[user]+1)\n",
    "            user_count[user]+=1\n",
    "            prior_item_probab[item][y-1] = ((item_count[item]*prior_item_probab[item][y-1])+1)/(item_count[item]+1)\n",
    "            item_count+=1\n",
    "            for item_j in range(num_movies):\n",
    "                k = mat.item((item_j,user))\n",
    "                if(k==0 or item_j==item):\n",
    "                    continue\n",
    "                cond_item_probab[item_j][k-1][item][y-1] = (item_itemJ_count[item_j][item][y-1]*cond_item_probab[item_j][k-1][item][y-1]+1)/(item_itemJ_count[item_j][item][y-1]+1)\n",
    "                item_itemJ_count[item_j][item][y-1]+=1\n",
    "            for user_j in range(num_users):\n",
    "                k = mat.item((item,user_j))\n",
    "                if(k==0 or user_j==user):\n",
    "                    continue\n",
    "                cond_user_probab[user_j][k-1][user][y-1] = (user_userJ_count[user_j][user][y-1]*cond_user_probab[user_j][k-1][user][y-1]+1)/(user_userJ_count[user_j][user][y-1]+1)\n",
    "                user_userJ_count[user_j][user][y-1]+=1\n",
    "    return (prior_user_probab,cond_user_probab,prior_item_probab,cond_item_probab)\n",
    "def predict(mat,a,rating_class,prior_user_probab,cond_user_probab,prior_item_probab,cond_item_probab):    \n",
    "    num_movies = mat.shape[0]\n",
    "    num_users = mat.shape[1]\n",
    "    prediction = np.full((num_movies,num_users),0)\n",
    "    for i in range(num_users):\n",
    "        for j in range(num_movies):\n",
    "            rating=[]\n",
    "            for k in range(rating_class.shape[0]):\n",
    "                pip = prior_item_probab[j][k]\n",
    "                likelihood_product = 1\n",
    "                for l in range(num_movies):\n",
    "                    ril = mat.item((l,i))\n",
    "                    if(ril==0 or l==j):\n",
    "                        continue\n",
    "                    likelihood_product*=cond_item_probab[l][ril-1][j][k]\n",
    "                rating.append(pip*likelihood_product)\n",
    "            rating=np.array(rating)\n",
    "            prediction[j][i] = rating.argmax()+1\n",
    "    return prediction\n",
    "\n",
    "#   #3 Finding Performance Metric\n",
    "\n",
    "def confusion_matrix(original,prediction):\n",
    "    conf_mat = np.full((5,5),0)\n",
    "    for i in range(original.shape[0]):\n",
    "        for j in range(original.shape[1]):\n",
    "            if(original.item((i,j))==0):\n",
    "                continue\n",
    "            conf_mat[original.item((i,j))-1][prediction.item((i,j))-1]+=1\n",
    "    return conf_mat\n",
    "def MAE(original,prediction):\n",
    "    numerator=0\n",
    "    denominator=0\n",
    "    for i in range(original.shape[0]):\n",
    "        rating= 0\n",
    "        count = 0\n",
    "        for j in range(original.shape[1]):\n",
    "            if(original.item((i,j))==0):\n",
    "                continue\n",
    "            rating+=(abs(original.item((i,j))-prediction.item((i,j))))\n",
    "            count+=1\n",
    "        numerator+=(rating/count)\n",
    "        denominator+=1\n",
    "    return numerator/denominator\n",
    "def precision(original,prediction,threshold):\n",
    "    numerator=0\n",
    "    denominator=0\n",
    "    for i in range(original.shape[0]):\n",
    "        rating= 0\n",
    "        count = 0\n",
    "        for j in range(original.shape[1]):\n",
    "            if(original.item((i,j))!=0):\n",
    "                continue\n",
    "            if(prediction.item((i,j))>=threshold):\n",
    "                rating+=1\n",
    "            count+=1\n",
    "        numerator+=(rating/count)\n",
    "        denominator+=1\n",
    "    return numerator/denominator\n",
    "def recall(original,prediction,threshold):\n",
    "    numerator=0\n",
    "    denominator=0\n",
    "    for i in range(original.shape[0]):\n",
    "        rating= 0\n",
    "        count = 0\n",
    "        for j in range(original.shape[1]):\n",
    "            if(original.item((i,j))!=0):\n",
    "                if(original.item((i,j))>=threshold):\n",
    "                    count+=1\n",
    "                continue\n",
    "            if(prediction.item((i,j))>=threshold):\n",
    "                rating+=1\n",
    "        numerator+=(rating/count)\n",
    "        denominator+=1\n",
    "    return numerator/denominator\n",
    "def performance_analysis(original,prediction,threshold):\n",
    "    conf_mat = confusion_matrix(original,prediction)\n",
    "    MAE = MAE(original,prediction)\n",
    "    precision = precision(original,prediction,threshold)\n",
    "    recall = recall(original,prediction,threshold)\n",
    "    return (conf_mat,MAE,precision,recall)\n"
   ]
  },
  {
   "cell_type": "code",
   "execution_count": 10,
   "metadata": {},
   "outputs": [],
   "source": []
  },
  {
   "cell_type": "code",
   "execution_count": 11,
   "metadata": {
    "id": "bpAbRExj-nxy"
   },
   "outputs": [],
   "source": []
  },
  {
   "cell_type": "code",
   "execution_count": 8,
   "metadata": {
    "colab": {
     "base_uri": "https://localhost:8080/"
    },
    "id": "uAWogGV-BNKm",
    "outputId": "99ec51b1-cb2a-420c-a90f-a5ae5e64cbca"
   },
   "outputs": [
    {
     "name": "stdout",
     "output_type": "stream",
     "text": [
      "Spaprsity of data :  99.07730227316729\n"
     ]
    }
   ],
   "source": [
    "sparcity = 100 - (np.count_nonzero(X)/(num_movies*num_users))*100\n",
    "print(\"Spaprsity of data : \",sparcity)"
   ]
  },
  {
   "cell_type": "code",
   "execution_count": 9,
   "metadata": {
    "id": "68iVSh-iBTM-"
   },
   "outputs": [],
   "source": [
    "rating_class = np.array([1,2,3,4,5])"
   ]
  },
  {
   "cell_type": "code",
   "execution_count": 14,
   "metadata": {},
   "outputs": [],
   "source": []
  },
  {
   "cell_type": "code",
   "execution_count": 10,
   "metadata": {
    "id": "ubOzhPG8BYv8"
   },
   "outputs": [],
   "source": [
    "prior_user_probab,cond_user_probab,prior_item_probab,cond_item_probab = naiveBayes(X,0.01,rating_class)\n",
    "prediction = predict(X,0.01,rating_class,prior_user_probab,cond_user_probab,prior_item_probab,cond_item_probab)"
   ]
  },
  {
   "cell_type": "code",
   "execution_count": 12,
   "metadata": {},
   "outputs": [],
   "source": [
    "prediction = np.transpose(prediction)"
   ]
  },
  {
   "cell_type": "code",
   "execution_count": 13,
   "metadata": {},
   "outputs": [
    {
     "data": {
      "text/plain": [
       "(8169, 1410)"
      ]
     },
     "execution_count": 13,
     "metadata": {},
     "output_type": "execute_result"
    }
   ],
   "source": [
    "prediction.shape"
   ]
  },
  {
   "cell_type": "code",
   "execution_count": 22,
   "metadata": {},
   "outputs": [],
   "source": [
    "import seaborn as sns\n",
    "sns.set(rc={'figure.figsize':(7,7)})"
   ]
  },
  {
   "cell_type": "code",
   "execution_count": 14,
   "metadata": {},
   "outputs": [],
   "source": [
    "def score(prediction,test):\n",
    "    user_ids = list(test['userID'].unique())\n",
    "    test_scores = prediction[user_ids]\n",
    "    return test_scores\n",
    "def recommend_k_items(prediction, test, top_k=10, sort_top_k=True):\n",
    "    test_scores = score(prediction,test)\n",
    "\n",
    "    top_items, top_scores = get_top_k_scored_items(\n",
    "        scores=test_scores, top_k=top_k, sort_top_k=sort_top_k\n",
    "    )\n",
    "    df = pd.DataFrame(\n",
    "        {\n",
    "            'userID': np.repeat(\n",
    "                test['userID'].drop_duplicates().values, top_items.shape[1]\n",
    "            ),\n",
    "            'itemID': [item for item in top_items.flatten()],\n",
    "            'prediction': top_scores.flatten(),\n",
    "        }\n",
    "    )\n",
    "\n",
    "    # drop invalid items\n",
    "    return df.replace(-np.inf, np.nan).dropna()"
   ]
  },
  {
   "cell_type": "code",
   "execution_count": 16,
   "metadata": {},
   "outputs": [
    {
     "name": "stdout",
     "output_type": "stream",
     "text": [
      "Took 0.3152027999994971 seconds for prediction.\n"
     ]
    }
   ],
   "source": [
    "with Timer() as test_time:\n",
    "    top_k = recommend_k_items(prediction,test, top_k=10)\n",
    "\n",
    "print(\"Took {} seconds for prediction.\".format(test_time.interval))"
   ]
  },
  {
   "cell_type": "code",
   "execution_count": 18,
   "metadata": {},
   "outputs": [
    {
     "name": "stdout",
     "output_type": "stream",
     "text": [
      "Model:\t\n",
      "Top K:\t10\n",
      "MAP:\t0.002144\n",
      "NDCG:\t0.006279\n"
     ]
    }
   ],
   "source": [
    "TOP_K=10\n",
    "eval_map = map_at_k(test, top_k, col_user='userID', col_item='itemID', col_rating='rating', k=TOP_K)\n",
    "eval_ndcg = ndcg_at_k(test, top_k, col_user='userID', col_item='itemID', col_rating='rating', k=TOP_K)\n",
    "print(\"Model:\\t\",\n",
    "      \"Top K:\\t%d\" % TOP_K,\n",
    "      \"MAP:\\t%f\" % eval_map,\n",
    "      \"NDCG:\\t%f\" % eval_ndcg,\n",
    "      sep='\\n')"
   ]
  },
  {
   "cell_type": "code",
   "execution_count": 19,
   "metadata": {
    "id": "kcAYS5-rBqkM"
   },
   "outputs": [
    {
     "name": "stdout",
     "output_type": "stream",
     "text": [
      "[[ 3662    69   347   346   126]\n",
      " [   32  7943  1019  1112   308]\n",
      " [   30   256 25021  3949   983]\n",
      " [   32   254  2683 32085  1770]\n",
      " [   46   101  1185  3849 19071]]\n"
     ]
    }
   ],
   "source": [
    "# conf_mat,MAE,precision,recall = performance_analysis(mat,prediction,3)\n",
    "# print(\"MAE : \",MAE(mat,prediction))\n",
    "# print(\"Precision : \",precision(mat,prediction,3))\n",
    "# print(\"Recall : \",recall(mat,prediction,3))\n",
    "# print(\"Confusion Matrix\")\n",
    "conf_mat = confusion_matrix(X,np.transpose(prediction))\n",
    "print(conf_mat)"
   ]
  },
  {
   "cell_type": "code",
   "execution_count": 21,
   "metadata": {},
   "outputs": [
    {
     "name": "stdout",
     "output_type": "stream",
     "text": [
      "Collecting seaborn\n",
      "  Downloading seaborn-0.12.2-py3-none-any.whl (293 kB)\n",
      "     ------------------------------------ 293.3/293.3 kB 566.1 kB/s eta 0:00:00\n",
      "Requirement already satisfied: pandas>=0.25 in c:\\users\\ankit\\appdata\\local\\programs\\python\\python39\\lib\\site-packages (from seaborn) (1.5.2)\n",
      "Requirement already satisfied: numpy!=1.24.0,>=1.17 in c:\\users\\ankit\\appdata\\local\\programs\\python\\python39\\lib\\site-packages (from seaborn) (1.24.1)\n",
      "Requirement already satisfied: matplotlib!=3.6.1,>=3.1 in c:\\users\\ankit\\appdata\\local\\programs\\python\\python39\\lib\\site-packages (from seaborn) (3.6.2)\n",
      "Requirement already satisfied: python-dateutil>=2.7 in c:\\users\\ankit\\appdata\\local\\programs\\python\\python39\\lib\\site-packages (from matplotlib!=3.6.1,>=3.1->seaborn) (2.8.2)\n",
      "Requirement already satisfied: cycler>=0.10 in c:\\users\\ankit\\appdata\\local\\programs\\python\\python39\\lib\\site-packages (from matplotlib!=3.6.1,>=3.1->seaborn) (0.11.0)\n",
      "Requirement already satisfied: fonttools>=4.22.0 in c:\\users\\ankit\\appdata\\local\\programs\\python\\python39\\lib\\site-packages (from matplotlib!=3.6.1,>=3.1->seaborn) (4.38.0)\n",
      "Requirement already satisfied: pyparsing>=2.2.1 in c:\\users\\ankit\\appdata\\local\\programs\\python\\python39\\lib\\site-packages (from matplotlib!=3.6.1,>=3.1->seaborn) (3.0.9)\n",
      "Requirement already satisfied: pillow>=6.2.0 in c:\\users\\ankit\\appdata\\local\\programs\\python\\python39\\lib\\site-packages (from matplotlib!=3.6.1,>=3.1->seaborn) (9.4.0)\n",
      "Requirement already satisfied: packaging>=20.0 in c:\\users\\ankit\\appdata\\local\\programs\\python\\python39\\lib\\site-packages (from matplotlib!=3.6.1,>=3.1->seaborn) (22.0)\n",
      "Requirement already satisfied: kiwisolver>=1.0.1 in c:\\users\\ankit\\appdata\\local\\programs\\python\\python39\\lib\\site-packages (from matplotlib!=3.6.1,>=3.1->seaborn) (1.4.4)\n",
      "Requirement already satisfied: contourpy>=1.0.1 in c:\\users\\ankit\\appdata\\local\\programs\\python\\python39\\lib\\site-packages (from matplotlib!=3.6.1,>=3.1->seaborn) (1.0.6)\n",
      "Requirement already satisfied: pytz>=2020.1 in c:\\users\\ankit\\appdata\\local\\programs\\python\\python39\\lib\\site-packages (from pandas>=0.25->seaborn) (2022.7)\n",
      "Requirement already satisfied: six>=1.5 in c:\\users\\ankit\\appdata\\local\\programs\\python\\python39\\lib\\site-packages (from python-dateutil>=2.7->matplotlib!=3.6.1,>=3.1->seaborn) (1.16.0)\n",
      "Installing collected packages: seaborn\n",
      "Successfully installed seaborn-0.12.2\n",
      "Note: you may need to restart the kernel to use updated packages.\n"
     ]
    }
   ],
   "source": [
    "pip install seaborn"
   ]
  },
  {
   "cell_type": "code",
   "execution_count": 22,
   "metadata": {},
   "outputs": [
    {
     "data": {
      "text/plain": [
       "<AxesSubplot: >"
      ]
     },
     "execution_count": 22,
     "metadata": {},
     "output_type": "execute_result"
    },
    {
     "data": {
      "image/png": "[encoded data removed]",
      "text/plain": [
       "<Figure size 700x700 with 2 Axes>"
      ]
     },
     "metadata": {},
     "output_type": "display_data"
    }
   ],
   "source": [
    "import seaborn as sns\n",
    "sns.set(rc={'figure.figsize':(7,7)})\n",
    "sns.heatmap(conf_mat,fmt='',annot=True)"
   ]
  },
  {
   "cell_type": "code",
   "execution_count": 7,
   "metadata": {},
   "outputs": [
    {
     "data": {
      "text/plain": [
       "34860"
      ]
     },
     "execution_count": 7,
     "metadata": {},
     "output_type": "execute_result"
    }
   ],
   "source": [
    "len(test['rating'])"
   ]
  }
 ],
 "metadata": {
  "colab": {
   "provenance": []
  },
  "kernelspec": {
   "display_name": "Python 3 (ipykernel)",
   "language": "python",
   "name": "python3"
  },
  "language_info": {
   "codemirror_mode": {
    "name": "ipython",
    "version": 3
   },
   "file_extension": ".py",
   "mimetype": "text/x-python",
   "name": "python",
   "nbconvert_exporter": "python",
   "pygments_lexer": "ipython3",
   "version": "3.9.13"
  }
 },
 "nbformat": 4,
 "nbformat_minor": 1
}
