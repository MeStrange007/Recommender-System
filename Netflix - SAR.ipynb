{
 "cells": [
  {
   "cell_type": "code",
   "execution_count": 1,
   "id": "a4b2f64c",
   "metadata": {},
   "outputs": [],
   "source": [
    "import logging\n",
    "import numpy as np\n",
    "import pandas as pd\n",
    "from sklearn.preprocessing import minmax_scale\n",
    "from recommenders.utils.python_utils import binarize\n",
    "from recommenders.utils.timer import Timer\n",
    "from recommenders.datasets.python_splitters import python_stratified_split\n",
    "from recommenders.evaluation.python_evaluation import (\n",
    "    map_at_k,\n",
    "    ndcg_at_k,\n",
    "    precision_at_k,\n",
    "    recall_at_k,\n",
    "    rmse,\n",
    "    mae,\n",
    "    logloss,\n",
    "    rsquared,\n",
    "    exp_var,\n",
    "    auc,\n",
    "    confusion_matrix\n",
    ")\n",
    "from recommenders.models.sar import SAR\n",
    "import sys"
   ]
  },
  {
   "cell_type": "code",
   "execution_count": 2,
   "id": "732ed04b",
   "metadata": {},
   "outputs": [],
   "source": [
    "def load_df(size=\"1\"):\n",
    "  if(size==5):\n",
    "    df = pd.read_csv(f\"./drive/MyDrive/netflix dataset/combined_data_1.txt\",header = None, names = ['userID', 'rating','timestamp'], usecols = [0,1,2])\n",
    "    for i in range(2,5):\n",
    "      df_temp = pd.read_csv(f\"./drive/MyDrive/netflix dataset/combined_data_{i}.txt\",header = None, names = ['userID', 'rating','timestamp'], usecols = [0,1,2])\n",
    "      df.append(df_temp)\n",
    "  else:\n",
    "    df = pd.read_csv(f\"./drive/MyDrive/netflix dataset/combined_data_{size}.txt\",header = None, names = ['userID', 'rating','timestamp'], usecols = [0,1,2])\n",
    "  df.index = np.arange(0,len(df))\n",
    "  df_nan = pd.DataFrame(pd.isnull(df.rating))\n",
    "  df_nan = df_nan[df_nan['rating'] == True]\n",
    "  df_nan = df_nan.reset_index()\n",
    "  movie_np = []\n",
    "  movie_id = 1\n",
    "  for i,j in zip(df_nan['index'][1:],df_nan['index'][:-1]):\n",
    "      temp = np.full((1,i-j-1), movie_id)\n",
    "      movie_np = np.append(movie_np, temp)\n",
    "      movie_id += 1\n",
    "  last_record = np.full((1,len(df) - df_nan.iloc[-1, 0] - 1),movie_id)\n",
    "  movie_np = np.append(movie_np, last_record)\n",
    "  df = df[pd.notnull(df['rating'])]\n",
    "  df['itemID'] = movie_np.astype(int)\n",
    "  df['userID'] = df['userID'].astype(int)\n",
    "  df['rating'] = df['rating'].astype(float)\n",
    "  df = df[df[\"itemID\"]<=1500]\n",
    "  df = df[df[\"userID\"]<=50000]\n",
    "  return df"
   ]
  },
  {
   "cell_type": "code",
   "execution_count": 3,
   "id": "18f15ef5",
   "metadata": {},
   "outputs": [],
   "source": [
    "data = load_df()"
   ]
  },
  {
   "cell_type": "code",
   "execution_count": 4,
   "id": "db542470",
   "metadata": {},
   "outputs": [],
   "source": [
    "data['rating'] = data['rating'].astype(np.float32)\n",
    "data[\"timestamp\"] = data[\"timestamp\"].apply(lambda X : X.replace('-', ''))\n",
    "data['timestamp'] = data['timestamp'].astype(np.int64)\n",
    "# type(data.timestamp[4])\n",
    "train, test = python_stratified_split(data, ratio=0.75, col_user='userID', col_item='itemID', seed=42)"
   ]
  },
  {
   "cell_type": "code",
   "execution_count": 5,
   "id": "f6f25877",
   "metadata": {},
   "outputs": [],
   "source": [
    "test = test[test[\"userID\"].isin(train[\"userID\"].unique())]\n",
    "test = test[test[\"itemID\"].isin(train[\"itemID\"].unique())]"
   ]
  },
  {
   "cell_type": "code",
   "execution_count": 6,
   "id": "d1ae6444",
   "metadata": {},
   "outputs": [
    {
     "name": "stdout",
     "output_type": "stream",
     "text": [
      "\n",
      "Train:\n",
      "Total Ratings: 106279\n",
      "Unique Users: 8169\n",
      "Unique Items: 1410\n",
      "\n",
      "Test:\n",
      "Total Ratings: 34860\n",
      "Unique Users: 6590\n",
      "Unique Items: 1151\n",
      "\n"
     ]
    }
   ],
   "source": [
    "print(\"\"\"\n",
    "Train:\n",
    "Total Ratings: {train_total}\n",
    "Unique Users: {train_users}\n",
    "Unique Items: {train_items}\n",
    "\n",
    "Test:\n",
    "Total Ratings: {test_total}\n",
    "Unique Users: {test_users}\n",
    "Unique Items: {test_items}\n",
    "\"\"\".format(\n",
    "    train_total=len(train),\n",
    "    train_users=len(train['userID'].unique()),\n",
    "    train_items=len(train['itemID'].unique()),\n",
    "    test_total=len(test),\n",
    "    test_users=len(test['userID'].unique()),\n",
    "    test_items=len(test['itemID'].unique()),\n",
    "))"
   ]
  },
  {
   "cell_type": "code",
   "execution_count": 7,
   "id": "a0a13f02",
   "metadata": {},
   "outputs": [],
   "source": [
    "logging.basicConfig(level=logging.DEBUG, \n",
    "                    format='%(asctime)s %(levelname)-8s %(message)s')\n",
    "\n",
    "model = SAR(\n",
    "    col_user=\"userID\",\n",
    "    col_item=\"itemID\",\n",
    "    col_rating=\"rating\",\n",
    "    col_timestamp=\"timestamp\",\n",
    "    similarity_type=\"jaccard\", \n",
    "    time_decay_coefficient=30, \n",
    "    timedecay_formula=True,\n",
    "    normalize=True\n",
    ")"
   ]
  },
  {
   "cell_type": "code",
   "execution_count": null,
   "id": "dcb5c00f",
   "metadata": {},
   "outputs": [],
   "source": []
  },
  {
   "cell_type": "code",
   "execution_count": 8,
   "id": "b7b25059",
   "metadata": {},
   "outputs": [
    {
     "name": "stderr",
     "output_type": "stream",
     "text": [
      "2023-01-10 11:38:28,803 INFO     Collecting user affinity matrix\n",
      "2023-01-10 11:38:28,803 INFO     Calculating time-decayed affinities\n",
      "2023-01-10 11:38:28,819 INFO     Creating index columns\n",
      "2023-01-10 11:38:28,881 INFO     Calculating normalization factors\n",
      "2023-01-10 11:38:28,912 INFO     Building user affinity sparse matrix\n",
      "2023-01-10 11:38:28,912 INFO     Calculating item co-occurrence\n"
     ]
    },
    {
     "name": "stdout",
     "output_type": "stream",
     "text": [
      "20051231\n",
      "<class 'numpy.int64'> <class 'pandas.core.series.Series'>\n",
      "20051231\n",
      "<class 'numpy.int64'> <class 'pandas.core.series.Series'>\n"
     ]
    },
    {
     "name": "stderr",
     "output_type": "stream",
     "text": [
      "2023-01-10 11:38:28,959 INFO     Calculating item similarity\n",
      "2023-01-10 11:38:28,959 INFO     Using jaccard based similarity\n",
      "2023-01-10 11:38:28,991 INFO     Done training\n"
     ]
    },
    {
     "name": "stdout",
     "output_type": "stream",
     "text": [
      "Took 0.21112109999999973 seconds for training.\n"
     ]
    }
   ],
   "source": [
    "with Timer() as train_time:\n",
    "    model.fit(train)\n",
    "\n",
    "print(\"Took {} seconds for training.\".format(train_time.interval))"
   ]
  },
  {
   "cell_type": "code",
   "execution_count": 9,
   "id": "ee59d710",
   "metadata": {},
   "outputs": [
    {
     "name": "stderr",
     "output_type": "stream",
     "text": [
      "2023-01-10 11:38:29,006 INFO     Calculating recommendation scores\n",
      "2023-01-10 11:38:29,287 INFO     Removing seen items\n"
     ]
    },
    {
     "name": "stdout",
     "output_type": "stream",
     "text": [
      "Took 0.6394395000000088 seconds for prediction.\n"
     ]
    }
   ],
   "source": [
    "with Timer() as test_time:\n",
    "    top_k = model.recommend_k_items(test, top_k=10, remove_seen=True)\n",
    "\n",
    "print(\"Took {} seconds for prediction.\".format(test_time.interval))"
   ]
  },
  {
   "cell_type": "code",
   "execution_count": 10,
   "id": "1c8bfffa",
   "metadata": {},
   "outputs": [
    {
     "data": {
      "text/html": [
       "<div>\n",
       "<style scoped>\n",
       "    .dataframe tbody tr th:only-of-type {\n",
       "        vertical-align: middle;\n",
       "    }\n",
       "\n",
       "    .dataframe tbody tr th {\n",
       "        vertical-align: top;\n",
       "    }\n",
       "\n",
       "    .dataframe thead th {\n",
       "        text-align: right;\n",
       "    }\n",
       "</style>\n",
       "<table border=\"1\" class=\"dataframe\">\n",
       "  <thead>\n",
       "    <tr style=\"text-align: right;\">\n",
       "      <th></th>\n",
       "      <th>userID</th>\n",
       "      <th>itemID</th>\n",
       "      <th>prediction</th>\n",
       "    </tr>\n",
       "  </thead>\n",
       "  <tbody>\n",
       "    <tr>\n",
       "      <th>0</th>\n",
       "      <td>6</td>\n",
       "      <td>607</td>\n",
       "      <td>3.316523</td>\n",
       "    </tr>\n",
       "    <tr>\n",
       "      <th>1</th>\n",
       "      <td>6</td>\n",
       "      <td>798</td>\n",
       "      <td>3.207483</td>\n",
       "    </tr>\n",
       "    <tr>\n",
       "      <th>2</th>\n",
       "      <td>6</td>\n",
       "      <td>571</td>\n",
       "      <td>3.188252</td>\n",
       "    </tr>\n",
       "    <tr>\n",
       "      <th>3</th>\n",
       "      <td>6</td>\n",
       "      <td>1102</td>\n",
       "      <td>3.115282</td>\n",
       "    </tr>\n",
       "    <tr>\n",
       "      <th>4</th>\n",
       "      <td>6</td>\n",
       "      <td>329</td>\n",
       "      <td>3.080248</td>\n",
       "    </tr>\n",
       "  </tbody>\n",
       "</table>\n",
       "</div>"
      ],
      "text/plain": [
       "   userID  itemID  prediction\n",
       "0       6     607    3.316523\n",
       "1       6     798    3.207483\n",
       "2       6     571    3.188252\n",
       "3       6    1102    3.115282\n",
       "4       6     329    3.080248"
      ]
     },
     "execution_count": 10,
     "metadata": {},
     "output_type": "execute_result"
    }
   ],
   "source": [
    "top_k.head()"
   ]
  },
  {
   "cell_type": "code",
   "execution_count": 11,
   "id": "8706412c",
   "metadata": {},
   "outputs": [],
   "source": [
    "TOP_K=10"
   ]
  },
  {
   "cell_type": "code",
   "execution_count": 12,
   "id": "144e8302",
   "metadata": {},
   "outputs": [],
   "source": [
    "eval_map = map_at_k(test, top_k, col_user='userID', col_item='itemID', col_rating='rating', k=TOP_K)\n",
    "eval_ndcg = ndcg_at_k(test, top_k, col_user='userID', col_item='itemID', col_rating='rating', k=TOP_K)\n",
    "eval_precision = precision_at_k(test, top_k, col_user='userID', col_item='itemID', col_rating='rating', k=TOP_K)\n",
    "eval_recall = recall_at_k(test, top_k, col_user='userID', col_item='itemID', col_rating='rating', k=TOP_K)\n",
    "eval_rmse = rmse(test, top_k, col_user='userID', col_item='itemID', col_rating='rating')\n",
    "eval_mae = mae(test, top_k, col_user='userID', col_item='itemID', col_rating='rating')\n",
    "eval_rsquared = rsquared(test, top_k, col_user='userID', col_item='itemID', col_rating='rating')\n",
    "eval_exp_var = exp_var(test, top_k, col_user='userID', col_item='itemID', col_rating='rating')\n",
    "# eval_auc = auc(test, top_k, col_user='userID', col_item='itemID', col_rating='rating')"
   ]
  },
  {
   "cell_type": "code",
   "execution_count": 13,
   "id": "29d1e5ae",
   "metadata": {},
   "outputs": [],
   "source": [
    "positivity_threshold = 2\n",
    "test_bin = test.copy()\n",
    "test_bin['rating'] = binarize(test_bin['rating'], positivity_threshold)\n",
    "\n",
    "top_k_prob = top_k.copy()\n",
    "top_k_prob['prediction'] = minmax_scale(\n",
    "    top_k_prob['prediction'].astype(float)\n",
    ")\n",
    "\n",
    "eval_logloss = logloss(test_bin, top_k_prob, col_user='userID', col_item='itemID', col_rating='rating')"
   ]
  },
  {
   "cell_type": "code",
   "execution_count": 14,
   "id": "2d6b081a",
   "metadata": {},
   "outputs": [
    {
     "data": {
      "text/plain": [
       "(   userID  itemID  prediction\n",
       " 0       6     607    0.649696\n",
       " 1       6     798    0.618075\n",
       " 2       6     571    0.612499\n",
       " 3       6    1102    0.591338\n",
       " 4       6     329    0.581179,\n",
       "          userID  rating  timestamp  itemID\n",
       " 7315294       6     1.0   20040922    1467\n",
       " 7432799       6     0.0   20050829    1476\n",
       " 1723707       6     1.0   20040915     329\n",
       " 6311835       6     1.0   20041207    1220\n",
       " 2886520       6     1.0   20051026     528)"
      ]
     },
     "execution_count": 14,
     "metadata": {},
     "output_type": "execute_result"
    }
   ],
   "source": [
    "top_k_prob.head(),test_bin.head()"
   ]
  },
  {
   "cell_type": "code",
   "execution_count": 15,
   "id": "b6aacef0",
   "metadata": {},
   "outputs": [
    {
     "name": "stdout",
     "output_type": "stream",
     "text": [
      "Model:\t\n",
      "Top K:\t10\n",
      "MAP:\t0.138327\n",
      "NDCG:\t0.250393\n",
      "Precision@K:\t0.143475\n",
      "Recall@K:\t0.292674\n",
      "RMSE:\t1.262606\n",
      "MAE:\t1.043910\n",
      "RSquared:\t-0.664870\n",
      "Exp_Var:\t-0.063798\n",
      "Logloss:\t0.604564\n"
     ]
    }
   ],
   "source": [
    "print(\"Model:\\t\",\n",
    "      \"Top K:\\t%d\" % TOP_K,\n",
    "      \"MAP:\\t%f\" % eval_map,\n",
    "      \"NDCG:\\t%f\" % eval_ndcg,\n",
    "      \"Precision@K:\\t%f\" % eval_precision,\n",
    "      \"Recall@K:\\t%f\" % eval_recall,\n",
    "      \"RMSE:\\t%f\" %eval_rmse,\n",
    "      \"MAE:\\t%f\" %eval_mae,\n",
    "      \"RSquared:\\t%f\" %eval_rsquared,\n",
    "      \"Exp_Var:\\t%f\" %eval_exp_var,\n",
    "      \"Logloss:\\t%f\" % eval_logloss,\n",
    "      sep='\\n')"
   ]
  },
  {
   "cell_type": "code",
   "execution_count": 2,
   "id": "1a326c0f",
   "metadata": {},
   "outputs": [],
   "source": [
    "conf_mat = confusion_matrix('model','test',\"SAR\")"
   ]
  },
  {
   "cell_type": "code",
   "execution_count": 3,
   "id": "17eeb30d",
   "metadata": {},
   "outputs": [
    {
     "data": {
      "image/png": "[encoded data removed]",
      "text/plain": [
       "<Figure size 400x400 with 2 Axes>"
      ]
     },
     "metadata": {},
     "output_type": "display_data"
    }
   ],
   "source": [
    "import seaborn as sns\n",
    "import matplotlib.pyplot as plt\n",
    "sns.set(rc={'figure.figsize':(4,4)})\n",
    "sns.heatmap(conf_mat,fmt='',annot=True)\n",
    "plt.xlabel(\"Predicted Value\")\n",
    "plt.ylabel(\"Target Value\")\n",
    "plt.show()"
   ]
  },
  {
   "cell_type": "code",
   "execution_count": null,
   "id": "4ceee402",
   "metadata": {},
   "outputs": [],
   "source": []
  }
 ],
 "metadata": {
  "kernelspec": {
   "display_name": "Python 3 (ipykernel)",
   "language": "python",
   "name": "python3"
  },
  "language_info": {
   "codemirror_mode": {
    "name": "ipython",
    "version": 3
   },
   "file_extension": ".py",
   "mimetype": "text/x-python",
   "name": "python",
   "nbconvert_exporter": "python",
   "pygments_lexer": "ipython3",
   "version": "3.9.13"
  }
 },
 "nbformat": 4,
 "nbformat_minor": 5
}
