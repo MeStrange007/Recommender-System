{
 "cells": [
  {
   "cell_type": "code",
   "execution_count": 8,
   "id": "409021d9",
   "metadata": {},
   "outputs": [],
   "source": [
    "import sys\n",
    "import pandas as pd\n",
    "import numpy as np\n",
    "from recommenders.models.ncf.ncf_singlenode import NCF\n",
    "from recommenders.models.ncf.dataset import Dataset as NCFDataset\n",
    "from recommenders.datasets.python_splitters import python_chrono_split\n",
    "from recommenders.evaluation.python_evaluation import (\n",
    "    map_at_k,\n",
    "    ndcg_at_k,\n",
    "    precision_at_k,\n",
    "    recall_at_k,\n",
    "    rmse,\n",
    "    mae,\n",
    "    logloss,\n",
    "    rsquared,\n",
    "    exp_var,\n",
    "    auc,\n",
    "    confusion_matrix\n",
    ")\n",
    "from recommenders.utils.timer import Timer\n",
    "from sklearn.preprocessing import minmax_scale\n",
    "from recommenders.utils.python_utils import binarize"
   ]
  },
  {
   "cell_type": "code",
   "execution_count": 78,
   "id": "efba9274",
   "metadata": {},
   "outputs": [],
   "source": [
    "def load_df(size=\"1\"):\n",
    "  if(size==5):\n",
    "    df = pd.read_csv(f\"./drive/MyDrive/netflix dataset/combined_data_1.txt\",header = None, names = ['userID', 'rating','timestamp'], usecols = [0,1,2])\n",
    "    for i in range(2,5):\n",
    "      df_temp = pd.read_csv(f\"./drive/MyDrive/netflix dataset/combined_data_{i}.txt\",header = None, names = ['userID', 'rating','timestamp'], usecols = [0,1,2])\n",
    "      df.append(df_temp)\n",
    "  else:\n",
    "    df = pd.read_csv(f\"./drive/MyDrive/netflix dataset/combined_data_{size}.txt\",header = None, names = ['userID', 'rating','timestamp'], usecols = [0,1,2])\n",
    "  df.index = np.arange(0,len(df))\n",
    "  df_nan = pd.DataFrame(pd.isnull(df.rating))\n",
    "  df_nan = df_nan[df_nan['rating'] == True]\n",
    "  df_nan = df_nan.reset_index()\n",
    "  movie_np = []\n",
    "  movie_id = 1\n",
    "  for i,j in zip(df_nan['index'][1:],df_nan['index'][:-1]):\n",
    "      temp = np.full((1,i-j-1), movie_id)\n",
    "      movie_np = np.append(movie_np, temp)\n",
    "      movie_id += 1\n",
    "  last_record = np.full((1,len(df) - df_nan.iloc[-1, 0] - 1),movie_id)\n",
    "  movie_np = np.append(movie_np, last_record)\n",
    "  df = df[pd.notnull(df['rating'])]\n",
    "  df['itemID'] = movie_np.astype(int)\n",
    "  df['userID'] = df['userID'].astype(int)\n",
    "  df['rating'] = df['rating'].astype(float)\n",
    "  df = df[df[\"itemID\"]<=1500]\n",
    "  df = df[df[\"userID\"]<=50000]\n",
    "  return df"
   ]
  },
  {
   "cell_type": "code",
   "execution_count": 79,
   "id": "717ca7d5",
   "metadata": {},
   "outputs": [],
   "source": [
    "df = load_df()"
   ]
  },
  {
   "cell_type": "code",
   "execution_count": 80,
   "id": "091f38c0",
   "metadata": {},
   "outputs": [],
   "source": [
    "train, test = python_chrono_split(df, 0.80)"
   ]
  },
  {
   "cell_type": "code",
   "execution_count": 5,
   "id": "670ef81d",
   "metadata": {},
   "outputs": [],
   "source": [
    "test = test[test[\"userID\"].isin(train[\"userID\"].unique())]\n",
    "test = test[test[\"itemID\"].isin(train[\"itemID\"].unique())]"
   ]
  },
  {
   "cell_type": "code",
   "execution_count": 6,
   "id": "cb12d039",
   "metadata": {},
   "outputs": [],
   "source": [
    "train_file = \"./drive/MyDrive/train.csv\"\n",
    "test_file = \"./drive/MyDrive/test.csv\"\n",
    "train.to_csv(train_file, index=False)\n",
    "test.to_csv(test_file, index=False)"
   ]
  },
  {
   "cell_type": "code",
   "execution_count": 7,
   "id": "3c2dcf13",
   "metadata": {},
   "outputs": [
    {
     "name": "stderr",
     "output_type": "stream",
     "text": [
      "INFO:recommenders.models.ncf.dataset:Indexing ./drive/MyDrive/train.csv ...\n",
      "INFO:recommenders.models.ncf.dataset:Indexing ./drive/MyDrive/test.csv ...\n",
      "INFO:recommenders.models.ncf.dataset:Indexing ./drive/MyDrive/test_full.csv ...\n"
     ]
    }
   ],
   "source": [
    "data = NCFDataset(train_file=train_file, test_file=test_file, seed=42)"
   ]
  },
  {
   "cell_type": "code",
   "execution_count": 8,
   "id": "7af5232e",
   "metadata": {},
   "outputs": [
    {
     "data": {
      "text/plain": [
       "(8169, 1374)"
      ]
     },
     "execution_count": 8,
     "metadata": {},
     "output_type": "execute_result"
    }
   ],
   "source": [
    "data.n_users,data.n_items"
   ]
  },
  {
   "cell_type": "code",
   "execution_count": 9,
   "id": "aed476e5",
   "metadata": {},
   "outputs": [
    {
     "name": "stderr",
     "output_type": "stream",
     "text": [
      "C:\\Users\\ankit\\AppData\\Local\\Programs\\Python\\Python39\\lib\\site-packages\\tensorflow\\python\\keras\\engine\\base_layer_v1.py:1694: UserWarning: `layer.apply` is deprecated and will be removed in a future version. Please use `layer.__call__` method instead.\n",
      "  warnings.warn('`layer.apply` is deprecated and '\n"
     ]
    }
   ],
   "source": [
    "model = NCF(\n",
    "    n_users=data.n_users, \n",
    "    n_items=data.n_items,\n",
    "    model_type=\"NeuMF\",\n",
    "    n_factors=4,\n",
    "    layer_sizes=[16,8,4],\n",
    "    n_epochs=30,\n",
    "    batch_size=256,\n",
    "    learning_rate=1e-3,\n",
    "    verbose=5,\n",
    "    seed=42\n",
    ")"
   ]
  },
  {
   "cell_type": "code",
   "execution_count": 10,
   "id": "1b4d21bc",
   "metadata": {},
   "outputs": [
    {
     "name": "stderr",
     "output_type": "stream",
     "text": [
      "INFO:recommenders.models.ncf.ncf_singlenode:Epoch 5 [64.71s]: train_loss = 0.205893 \n",
      "INFO:recommenders.models.ncf.ncf_singlenode:Epoch 10 [64.37s]: train_loss = 0.186696 \n",
      "INFO:recommenders.models.ncf.ncf_singlenode:Epoch 15 [64.85s]: train_loss = 0.178566 \n",
      "INFO:recommenders.models.ncf.ncf_singlenode:Epoch 20 [64.77s]: train_loss = 0.172203 \n",
      "INFO:recommenders.models.ncf.ncf_singlenode:Epoch 25 [29.61s]: train_loss = 0.168211 \n",
      "INFO:recommenders.models.ncf.ncf_singlenode:Epoch 30 [30.40s]: train_loss = 0.164668 \n"
     ]
    },
    {
     "name": "stdout",
     "output_type": "stream",
     "text": [
      "Took 1723.4384 seconds for training.\n"
     ]
    }
   ],
   "source": [
    "with Timer() as train_time:\n",
    "    model.fit(data)\n",
    "\n",
    "print(\"Took {} seconds for training.\".format(train_time))"
   ]
  },
  {
   "cell_type": "code",
   "execution_count": 11,
   "id": "b120a40a",
   "metadata": {},
   "outputs": [
    {
     "name": "stdout",
     "output_type": "stream",
     "text": [
      "Took 89.3963 seconds for prediction.\n"
     ]
    }
   ],
   "source": [
    "with Timer() as test_time:\n",
    "    users, items, preds = [], [], []\n",
    "    item = list(train.itemID.unique())\n",
    "    for user in train.userID.unique():\n",
    "        user = [user] * len(item) \n",
    "        users.extend(user)\n",
    "        items.extend(item)\n",
    "        preds.extend(list(model.predict(user, item, is_list=True)))\n",
    "\n",
    "    all_predictions = pd.DataFrame(data={\"userID\": users, \"itemID\":items, \"prediction\":preds})\n",
    "\n",
    "    merged = pd.merge(train, all_predictions, on=[\"userID\", \"itemID\"], how=\"outer\")\n",
    "    all_predictions = merged[merged.rating.isnull()].drop('rating', axis=1)\n",
    "\n",
    "print(\"Took {} seconds for prediction.\".format(test_time))"
   ]
  },
  {
   "cell_type": "code",
   "execution_count": 12,
   "id": "1f7d0e71",
   "metadata": {},
   "outputs": [],
   "source": [
    "from recommenders.evaluation.python_evaluation import (map_at_k, ndcg_at_k, precision_at_k,recall_at_k)"
   ]
  },
  {
   "cell_type": "code",
   "execution_count": 13,
   "id": "648e083a",
   "metadata": {},
   "outputs": [
    {
     "name": "stdout",
     "output_type": "stream",
     "text": [
      "Model:\t\n",
      "Top K:\t10\n",
      "MAP:\t0.086539\n",
      "NDCG:\t0.154337\n",
      "Precision@K:\t0.073635\n",
      "Recall@K:\t0.222977\n",
      "RMSE:\t3.327009\n",
      "MAE:\t3.147441\n",
      "RSquared:\t-8.989719\n",
      "Exp_Var:\t-0.049246\n",
      "Logloss:\t1.448773\n"
     ]
    }
   ],
   "source": [
    "eval_map = map_at_k(test, all_predictions, col_user='userID', col_item='itemID', col_rating='rating', k=10)\n",
    "eval_ndcg = ndcg_at_k(test, all_predictions, col_user='userID', col_item='itemID', col_rating='rating', k=10)\n",
    "eval_precision = precision_at_k(test, all_predictions, col_user='userID', col_item='itemID', col_rating='rating', k=10)\n",
    "eval_recall = recall_at_k(test, all_predictions, col_user='userID', col_item='itemID', col_rating='rating', k=10)\n",
    "eval_rmse = rmse(test, all_predictions, col_user='userID', col_item='itemID', col_rating='rating')\n",
    "eval_mae = mae(test, all_predictions, col_user='userID', col_item='itemID', col_rating='rating')\n",
    "eval_rsquared = rsquared(test, all_predictions, col_user='userID', col_item='itemID', col_rating='rating')\n",
    "eval_exp_var = exp_var(test, all_predictions, col_user='userID', col_item='itemID', col_rating='rating')\n",
    "# eval_auc = auc(test, all_predictions, col_user='userID', col_item='itemID', col_rating='rating')\n",
    "\n",
    "positivity_threshold = 2\n",
    "test_bin = test.copy()\n",
    "test_bin['rating'] = binarize(test_bin['rating'], positivity_threshold)\n",
    "\n",
    "top_k_prob = all_predictions.copy()\n",
    "top_k_prob['prediction'] = minmax_scale(\n",
    "    top_k_prob['prediction'].astype(float)\n",
    ")\n",
    "\n",
    "eval_logloss = logloss(test_bin, top_k_prob, col_user='userID', col_item='itemID', col_rating='rating')\n",
    "\n",
    "print(\"Model:\\t\",\n",
    "      \"Top K:\\t%d\" % 10,\n",
    "      \"MAP:\\t%f\" % eval_map,\n",
    "      \"NDCG:\\t%f\" % eval_ndcg,\n",
    "      \"Precision@K:\\t%f\" % eval_precision,\n",
    "      \"Recall@K:\\t%f\" % eval_recall,\n",
    "      \"RMSE:\\t%f\" %eval_rmse,\n",
    "      \"MAE:\\t%f\" %eval_mae,\n",
    "      \"RSquared:\\t%f\" %eval_rsquared,\n",
    "      \"Exp_Var:\\t%f\" %eval_exp_var,\n",
    "      \"Logloss:\\t%f\" % eval_logloss,\n",
    "      sep='\\n')"
   ]
  },
  {
   "cell_type": "code",
   "execution_count": 14,
   "id": "1293a962",
   "metadata": {},
   "outputs": [],
   "source": [
    "from tqdm import tqdm"
   ]
  },
  {
   "cell_type": "code",
   "execution_count": 71,
   "id": "41e55b93",
   "metadata": {},
   "outputs": [],
   "source": [
    "def score(test):\n",
    "    users, items, preds = [], [], []\n",
    "    item = list(test.itemID.unique())\n",
    "    for user in test.userID.unique():\n",
    "        user = [user] * len(item) \n",
    "        users.extend(user)\n",
    "        items.extend(item)\n",
    "        preds.extend(list(model.predict(user, item, is_list=True)))\n",
    "    all_predictions = pd.DataFrame(data={\"userID\": users, \"itemID\":items, \"prediction\":preds})\n",
    "    preds = all_predictions.pivot_table(index=[\"userID\"], columns=[\"itemID\"], values=\"prediction\")\n",
    "    return preds.to_numpy()"
   ]
  },
  {
   "cell_type": "code",
   "execution_count": 11,
   "id": "c8a21746",
   "metadata": {},
   "outputs": [],
   "source": [
    "conf_mat = confusion_matrix(model,test,\"NCF\")"
   ]
  },
  {
   "cell_type": "code",
   "execution_count": 12,
   "id": "afc037d1",
   "metadata": {},
   "outputs": [
    {
     "data": {
      "image/png": "[encoded data removed]",
      "text/plain": [
       "<Figure size 400x400 with 2 Axes>"
      ]
     },
     "metadata": {},
     "output_type": "display_data"
    }
   ],
   "source": [
    "import seaborn as sns\n",
    "import matplotlib.pyplot as plt\n",
    "sns.set(rc={'figure.figsize':(4,4)})\n",
    "sns.heatmap(conf_mat,fmt='',annot=True)\n",
    "plt.xlabel(\"Predicted Value\")\n",
    "plt.ylabel(\"Target Value\")\n",
    "plt.show()"
   ]
  },
  {
   "cell_type": "code",
   "execution_count": null,
   "id": "1f1eae26",
   "metadata": {},
   "outputs": [],
   "source": []
  }
 ],
 "metadata": {
  "kernelspec": {
   "display_name": "Python 3 (ipykernel)",
   "language": "python",
   "name": "python3"
  },
  "language_info": {
   "codemirror_mode": {
    "name": "ipython",
    "version": 3
   },
   "file_extension": ".py",
   "mimetype": "text/x-python",
   "name": "python",
   "nbconvert_exporter": "python",
   "pygments_lexer": "ipython3",
   "version": "3.9.13"
  }
 },
 "nbformat": 4,
 "nbformat_minor": 5
}
