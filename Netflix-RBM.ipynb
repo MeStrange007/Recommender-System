{
 "cells": [
  {
   "cell_type": "code",
   "execution_count": 1,
   "id": "70a19c87",
   "metadata": {},
   "outputs": [],
   "source": [
    "import pandas as pd\n",
    "import numpy as np\n",
    "import tensorflow as tf\n",
    "from recommenders.models.rbm.rbm import RBM\n",
    "from recommenders.datasets.python_splitters import numpy_stratified_split\n",
    "from recommenders.datasets.sparse import AffinityMatrix\n",
    "from recommenders.evaluation.python_evaluation import (\n",
    "    map_at_k,\n",
    "    ndcg_at_k,\n",
    "    precision_at_k,\n",
    "    recall_at_k,\n",
    "    rmse,\n",
    "    mae,\n",
    "    logloss,\n",
    "    rsquared,\n",
    "    exp_var,\n",
    "    auc,\n",
    "    confusion_matrix\n",
    ")\n",
    "from recommenders.utils.timer import Timer\n",
    "from sklearn.preprocessing import minmax_scale\n",
    "from recommenders.utils.python_utils import binarize\n",
    "from recommenders.utils.plot import line_graph"
   ]
  },
  {
   "cell_type": "code",
   "execution_count": 2,
   "id": "de490a58",
   "metadata": {},
   "outputs": [],
   "source": [
    "def load_df(size=\"1\"):\n",
    "  if(size==5):\n",
    "    df = pd.read_csv(f\"./drive/MyDrive/netflix dataset/combined_data_1.txt\",header = None, names = ['userID', 'rating','timestamp'], usecols = [0,1,2])\n",
    "    for i in range(2,5):\n",
    "      df_temp = pd.read_csv(f\"./drive/MyDrive/netflix dataset/combined_data_{i}.txt\",header = None, names = ['userID', 'rating','timestamp'], usecols = [0,1,2])\n",
    "      df.append(df_temp)\n",
    "  else:\n",
    "    df = pd.read_csv(f\"./drive/MyDrive/netflix dataset/combined_data_{size}.txt\",header = None, names = ['userID', 'rating','timestamp'], usecols = [0,1,2])\n",
    "  df.index = np.arange(0,len(df))\n",
    "  df_nan = pd.DataFrame(pd.isnull(df.rating))\n",
    "  df_nan = df_nan[df_nan['rating'] == True]\n",
    "  df_nan = df_nan.reset_index()\n",
    "  movie_np = []\n",
    "  movie_id = 1\n",
    "  for i,j in zip(df_nan['index'][1:],df_nan['index'][:-1]):\n",
    "      temp = np.full((1,i-j-1), movie_id)\n",
    "      movie_np = np.append(movie_np, temp)\n",
    "      movie_id += 1\n",
    "  last_record = np.full((1,len(df) - df_nan.iloc[-1, 0] - 1),movie_id)\n",
    "  movie_np = np.append(movie_np, last_record)\n",
    "  df = df[pd.notnull(df['rating'])]\n",
    "  df['itemID'] = movie_np.astype(int)\n",
    "  df['userID'] = df['userID'].astype(int)\n",
    "  df['rating'] = df['rating'].astype(float)\n",
    "  df = df[df[\"itemID\"]<=1500]\n",
    "  df = df[df[\"userID\"]<=50000]\n",
    "  return df"
   ]
  },
  {
   "cell_type": "code",
   "execution_count": 3,
   "id": "de827c65",
   "metadata": {},
   "outputs": [],
   "source": [
    "df = load_df()"
   ]
  },
  {
   "cell_type": "code",
   "execution_count": 4,
   "id": "4e7f69e8",
   "metadata": {},
   "outputs": [],
   "source": [
    "#to use standard names across the analysis \n",
    "header = {\n",
    "        \"col_user\": \"userID\",\n",
    "        \"col_item\": \"itemID\",\n",
    "        \"col_rating\": \"rating\",\n",
    "    }\n",
    "\n",
    "#instantiate the sparse matrix generation  \n",
    "am = AffinityMatrix(df = df, **header)\n",
    "\n",
    "#obtain the sparse matrix \n",
    "X, _, _ = am.gen_affinity_matrix()"
   ]
  },
  {
   "cell_type": "code",
   "execution_count": 5,
   "id": "d78559b4",
   "metadata": {},
   "outputs": [],
   "source": [
    "Xtr, Xtst = numpy_stratified_split(X)"
   ]
  },
  {
   "cell_type": "code",
   "execution_count": 6,
   "id": "575fd719",
   "metadata": {},
   "outputs": [
    {
     "name": "stdout",
     "output_type": "stream",
     "text": [
      "train matrix size (8169, 1446)\n",
      "test matrix size (8169, 1446)\n"
     ]
    }
   ],
   "source": [
    "print('train matrix size', Xtr.shape)\n",
    "print('test matrix size', Xtst.shape)"
   ]
  },
  {
   "cell_type": "code",
   "execution_count": 7,
   "id": "f4fee02a",
   "metadata": {},
   "outputs": [
    {
     "name": "stdout",
     "output_type": "stream",
     "text": [
      "WARNING:tensorflow:From C:\\Users\\ankit\\AppData\\Local\\Programs\\Python\\Python39\\lib\\site-packages\\tensorflow\\python\\util\\dispatch.py:1176: div (from tensorflow.python.ops.math_ops) is deprecated and will be removed in a future version.\n",
      "Instructions for updating:\n",
      "Deprecated in favor of operator or tf.math.divide.\n"
     ]
    }
   ],
   "source": [
    "#First we initialize the model class\n",
    "model = RBM(\n",
    "    possible_ratings=np.setdiff1d(np.unique(Xtr), np.array([0])),\n",
    "    visible_units=Xtr.shape[1],\n",
    "    hidden_units=600,\n",
    "    training_epoch=30,\n",
    "    minibatch_size=60,\n",
    "    keep_prob=0.9,\n",
    "    with_metrics=True\n",
    ")"
   ]
  },
  {
   "cell_type": "code",
   "execution_count": 8,
   "id": "0b2ce250",
   "metadata": {},
   "outputs": [
    {
     "name": "stdout",
     "output_type": "stream",
     "text": [
      "Took 36.18 seconds for training.\n"
     ]
    },
    {
     "data": {
      "image/png": "[encoded data removed]",
      "text/plain": [
       "<Figure size 500x500 with 1 Axes>"
      ]
     },
     "metadata": {},
     "output_type": "display_data"
    }
   ],
   "source": [
    "# Model Fit\n",
    "with Timer() as train_time:\n",
    "    model.fit(Xtr)\n",
    "\n",
    "print(\"Took {:.2f} seconds for training.\".format(train_time.interval))\n",
    "\n",
    "# Plot the train RMSE as a function of the epochs\n",
    "line_graph(values=model.rmse_train, labels='train', x_name='epoch', y_name='rmse_train')"
   ]
  },
  {
   "cell_type": "code",
   "execution_count": 9,
   "id": "1ecc371d",
   "metadata": {},
   "outputs": [
    {
     "name": "stdout",
     "output_type": "stream",
     "text": [
      "Took 0.93 seconds for prediction.\n"
     ]
    }
   ],
   "source": [
    "# number of top score elements to be recommended  \n",
    "K = 10\n",
    "\n",
    "# Model prediction on the test set Xtst.\n",
    "with Timer() as prediction_time:\n",
    "    top_k =  model.recommend_k_items(Xtst)\n",
    "\n",
    "print(\"Took {:.2f} seconds for prediction.\".format(prediction_time.interval))"
   ]
  },
  {
   "cell_type": "code",
   "execution_count": 10,
   "id": "6ba8bcc3",
   "metadata": {},
   "outputs": [],
   "source": [
    "top_k_df = am.map_back_sparse(top_k, kind = 'prediction')\n",
    "test_df = am.map_back_sparse(Xtst, kind = 'ratings')"
   ]
  },
  {
   "cell_type": "code",
   "execution_count": 11,
   "id": "32ccb514",
   "metadata": {},
   "outputs": [
    {
     "data": {
      "text/html": [
       "<div>\n",
       "<style scoped>\n",
       "    .dataframe tbody tr th:only-of-type {\n",
       "        vertical-align: middle;\n",
       "    }\n",
       "\n",
       "    .dataframe tbody tr th {\n",
       "        vertical-align: top;\n",
       "    }\n",
       "\n",
       "    .dataframe thead th {\n",
       "        text-align: right;\n",
       "    }\n",
       "</style>\n",
       "<table border=\"1\" class=\"dataframe\">\n",
       "  <thead>\n",
       "    <tr style=\"text-align: right;\">\n",
       "      <th></th>\n",
       "      <th>userID</th>\n",
       "      <th>itemID</th>\n",
       "      <th>prediction</th>\n",
       "    </tr>\n",
       "  </thead>\n",
       "  <tbody>\n",
       "    <tr>\n",
       "      <th>0</th>\n",
       "      <td>6</td>\n",
       "      <td>1467</td>\n",
       "      <td>4.764702</td>\n",
       "    </tr>\n",
       "    <tr>\n",
       "      <th>1</th>\n",
       "      <td>6</td>\n",
       "      <td>1220</td>\n",
       "      <td>4.586649</td>\n",
       "    </tr>\n",
       "    <tr>\n",
       "      <th>2</th>\n",
       "      <td>6</td>\n",
       "      <td>781</td>\n",
       "      <td>4.741897</td>\n",
       "    </tr>\n",
       "    <tr>\n",
       "      <th>3</th>\n",
       "      <td>6</td>\n",
       "      <td>59</td>\n",
       "      <td>4.769601</td>\n",
       "    </tr>\n",
       "    <tr>\n",
       "      <th>4</th>\n",
       "      <td>6</td>\n",
       "      <td>14</td>\n",
       "      <td>4.727356</td>\n",
       "    </tr>\n",
       "    <tr>\n",
       "      <th>5</th>\n",
       "      <td>6</td>\n",
       "      <td>1327</td>\n",
       "      <td>4.463492</td>\n",
       "    </tr>\n",
       "    <tr>\n",
       "      <th>6</th>\n",
       "      <td>6</td>\n",
       "      <td>392</td>\n",
       "      <td>4.532022</td>\n",
       "    </tr>\n",
       "    <tr>\n",
       "      <th>7</th>\n",
       "      <td>6</td>\n",
       "      <td>1380</td>\n",
       "      <td>4.914730</td>\n",
       "    </tr>\n",
       "    <tr>\n",
       "      <th>8</th>\n",
       "      <td>6</td>\n",
       "      <td>1398</td>\n",
       "      <td>4.471320</td>\n",
       "    </tr>\n",
       "    <tr>\n",
       "      <th>9</th>\n",
       "      <td>6</td>\n",
       "      <td>1159</td>\n",
       "      <td>4.835432</td>\n",
       "    </tr>\n",
       "  </tbody>\n",
       "</table>\n",
       "</div>"
      ],
      "text/plain": [
       "   userID  itemID  prediction\n",
       "0       6    1467    4.764702\n",
       "1       6    1220    4.586649\n",
       "2       6     781    4.741897\n",
       "3       6      59    4.769601\n",
       "4       6      14    4.727356\n",
       "5       6    1327    4.463492\n",
       "6       6     392    4.532022\n",
       "7       6    1380    4.914730\n",
       "8       6    1398    4.471320\n",
       "9       6    1159    4.835432"
      ]
     },
     "execution_count": 11,
     "metadata": {},
     "output_type": "execute_result"
    }
   ],
   "source": [
    "top_k_df.head(10)"
   ]
  },
  {
   "cell_type": "code",
   "execution_count": 12,
   "id": "a41f08ba",
   "metadata": {},
   "outputs": [],
   "source": [
    "def ranking_metrics(\n",
    "    data_size,\n",
    "    data_true,\n",
    "    data_pred,\n",
    "    K\n",
    "):\n",
    "\n",
    "    eval_map = map_at_k(data_true, data_pred, col_user='userID', col_item='itemID', col_rating='rating', k=K)\n",
    "    eval_ndcg = ndcg_at_k(data_true, data_pred, col_user='userID', col_item='itemID', col_rating='rating', k=K)\n",
    "    eval_precision = precision_at_k(data_true, data_pred, col_user='userID', col_item='itemID', col_rating='rating', k=K)\n",
    "    eval_recall = recall_at_k(data_true, data_pred, col_user='userID', col_item='itemID', col_rating='rating', k=K)\n",
    "    eval_rmse = rmse(data_true, data_pred, col_user='userID', col_item='itemID', col_rating='rating')\n",
    "    eval_mae = mae(data_true, data_pred, col_user='userID', col_item='itemID', col_rating='rating')\n",
    "    eval_rsquared = rsquared(data_true, data_pred, col_user='userID', col_item='itemID', col_rating='rating')\n",
    "    eval_exp_var = exp_var(data_true, data_pred, col_user='userID', col_item='itemID', col_rating='rating')\n",
    "#     eval_auc = auc(data_true, data_pred, col_user='userID', col_item='itemID', col_rating='rating')\n",
    "\n",
    "    positivity_threshold = 2\n",
    "    test_bin = data_true.copy()\n",
    "    test_bin['rating'] = binarize(test_bin['rating'], positivity_threshold)\n",
    "\n",
    "    top_k_prob = data_pred.copy()\n",
    "    top_k_prob['prediction'] = minmax_scale(\n",
    "        top_k_prob['prediction'].astype(float)\n",
    "    )\n",
    "    \n",
    "    eval_logloss = logloss(test_bin, top_k_prob, col_user='userID', col_item='itemID', col_rating='rating')\n",
    "    \n",
    "    df_result = pd.DataFrame(\n",
    "        {   \"Dataset\": data_size,\n",
    "            \"K\": K,\n",
    "            \"MAP\": eval_map,\n",
    "            \"nDCG@k\": eval_ndcg,\n",
    "            \"Precision@k\": eval_precision,\n",
    "            \"Recall@k\": eval_recall,\n",
    "            \"RMSE\": eval_rmse,\n",
    "            \"MAE\" : eval_mae,\n",
    "            \"Rsquared\" : eval_rsquared,\n",
    "            \"Exp_Var\" : eval_exp_var,\n",
    "            \"logloss\" : eval_logloss\n",
    "        }, \n",
    "        index=[0]\n",
    "    )\n",
    "    \n",
    "    return df_result"
   ]
  },
  {
   "cell_type": "code",
   "execution_count": 13,
   "id": "69943108",
   "metadata": {},
   "outputs": [
    {
     "data": {
      "text/html": [
       "<div>\n",
       "<style scoped>\n",
       "    .dataframe tbody tr th:only-of-type {\n",
       "        vertical-align: middle;\n",
       "    }\n",
       "\n",
       "    .dataframe tbody tr th {\n",
       "        vertical-align: top;\n",
       "    }\n",
       "\n",
       "    .dataframe thead th {\n",
       "        text-align: right;\n",
       "    }\n",
       "</style>\n",
       "<table border=\"1\" class=\"dataframe\">\n",
       "  <thead>\n",
       "    <tr style=\"text-align: right;\">\n",
       "      <th></th>\n",
       "      <th>Dataset</th>\n",
       "      <th>K</th>\n",
       "      <th>MAP</th>\n",
       "      <th>nDCG@k</th>\n",
       "      <th>Precision@k</th>\n",
       "      <th>Recall@k</th>\n",
       "      <th>RMSE</th>\n",
       "      <th>MAE</th>\n",
       "      <th>Rsquared</th>\n",
       "      <th>Exp_Var</th>\n",
       "      <th>logloss</th>\n",
       "    </tr>\n",
       "  </thead>\n",
       "  <tbody>\n",
       "    <tr>\n",
       "      <th>0</th>\n",
       "      <td>netflix 100k</td>\n",
       "      <td>10</td>\n",
       "      <td>0.107067</td>\n",
       "      <td>0.215959</td>\n",
       "      <td>0.126111</td>\n",
       "      <td>0.316913</td>\n",
       "      <td>0.693523</td>\n",
       "      <td>0.547062</td>\n",
       "      <td>-0.01236</td>\n",
       "      <td>0.087436</td>\n",
       "      <td>0.338721</td>\n",
       "    </tr>\n",
       "  </tbody>\n",
       "</table>\n",
       "</div>"
      ],
      "text/plain": [
       "        Dataset   K       MAP    nDCG@k  Precision@k  Recall@k      RMSE  \\\n",
       "0  netflix 100k  10  0.107067  0.215959     0.126111  0.316913  0.693523   \n",
       "\n",
       "        MAE  Rsquared   Exp_Var   logloss  \n",
       "0  0.547062  -0.01236  0.087436  0.338721  "
      ]
     },
     "execution_count": 13,
     "metadata": {},
     "output_type": "execute_result"
    }
   ],
   "source": [
    "eval_100k = ranking_metrics(\n",
    "    data_size=\"netflix 100k\",\n",
    "    data_true=test_df,\n",
    "    data_pred=top_k_df,\n",
    "    K=10\n",
    ")\n",
    "\n",
    "eval_100k"
   ]
  },
  {
   "cell_type": "code",
   "execution_count": 6,
   "id": "b375af35",
   "metadata": {},
   "outputs": [],
   "source": [
    "conf_mat = confusion_matrix(model,test,\"RBM\")"
   ]
  },
  {
   "cell_type": "code",
   "execution_count": 7,
   "id": "7afd5f84",
   "metadata": {},
   "outputs": [
    {
     "data": {
      "image/png": "[encoded data removed]",
      "text/plain": [
       "<Figure size 400x400 with 2 Axes>"
      ]
     },
     "metadata": {},
     "output_type": "display_data"
    }
   ],
   "source": [
    "import seaborn as sns\n",
    "import matplotlib.pyplot as plt\n",
    "sns.set(rc={'figure.figsize':(4,4)})\n",
    "sns.heatmap(conf_mat,fmt='',annot=True)\n",
    "plt.xlabel(\"Predicted Value\")\n",
    "plt.ylabel(\"Target Value\")\n",
    "plt.show()"
   ]
  },
  {
   "cell_type": "code",
   "execution_count": 14,
   "id": "fc50b200",
   "metadata": {},
   "outputs": [],
   "source": [
    "model.save(file_path='./models/rbm_model.ckpt')"
   ]
  }
 ],
 "metadata": {
  "kernelspec": {
   "display_name": "Python 3 (ipykernel)",
   "language": "python",
   "name": "python3"
  },
  "language_info": {
   "codemirror_mode": {
    "name": "ipython",
    "version": 3
   },
   "file_extension": ".py",
   "mimetype": "text/x-python",
   "name": "python",
   "nbconvert_exporter": "python",
   "pygments_lexer": "ipython3",
   "version": "3.9.13"
  }
 },
 "nbformat": 4,
 "nbformat_minor": 5
}
